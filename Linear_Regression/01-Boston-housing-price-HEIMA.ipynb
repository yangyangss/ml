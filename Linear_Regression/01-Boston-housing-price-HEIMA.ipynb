{
 "cells": [
  {
   "cell_type": "code",
   "execution_count": 1,
   "id": "initial_id",
   "metadata": {
    "collapsed": true,
    "ExecuteTime": {
     "end_time": "2023-09-03T07:18:30.775549Z",
     "start_time": "2023-09-03T07:18:29.731857Z"
    }
   },
   "outputs": [],
   "source": [
    "import pandas as pd\n",
    "import numpy as np\n",
    "from sklearn.model_selection import train_test_split\n",
    "from sklearn.preprocessing import StandardScaler\n",
    "from sklearn.linear_model import LinearRegression, SGDRegressor, RidgeCV, Ridge\n",
    "from sklearn.metrics import mean_squared_error\n",
    "from sklearn.datasets import fetch_openml\n",
    "import matplotlib.pyplot as plt\n",
    "import seaborn as sns"
   ]
  },
  {
   "cell_type": "code",
   "execution_count": 26,
   "outputs": [],
   "source": [
    "# 1.获取数据\n",
    "data_x, data_y = fetch_openml(name=\"boston\", version=1, as_frame=True, return_X_y=True, parser=\"pandas\")"
   ],
   "metadata": {
    "collapsed": false,
    "ExecuteTime": {
     "end_time": "2023-09-03T13:34:36.146083Z",
     "start_time": "2023-09-03T13:34:36.109159Z"
    }
   },
   "id": "a25443c9ad8915fa"
  },
  {
   "cell_type": "code",
   "execution_count": 24,
   "outputs": [],
   "source": [
    "def linear_model1(model):\n",
    "    # 2.数据集划分\n",
    "    x_train, x_test, y_train, y_test = train_test_split(data_x, data_y, random_state=22)\n",
    "\n",
    "    # 3.特征工程-标准化\n",
    "    transfer = StandardScaler()\n",
    "    x_train = transfer.fit_transform(x_train)\n",
    "    x_test = transfer.fit_transform(x_test)\n",
    "\n",
    "    \n",
    "    # 4.机器学习-线性回归(正规方程)\n",
    "    estimator = None\n",
    "    if model == 'LR':\n",
    "        estimator = LinearRegression()\n",
    "    elif model == 'RIDGE':\n",
    "        estimator = Ridge(alpha=1)  \n",
    "    else:\n",
    "        estimator = SGDRegressor(max_iter=1000)\n",
    "    \n",
    "    estimator.fit(x_train, y_train)\n",
    "    # 5.模型评估\n",
    "    # 5.1 获取系数等值\n",
    "    y_predict = estimator.predict(x_test)\n",
    "    print(\"预测值为:\\n\", y_predict)\n",
    "    print(\"模型中的系数为:\\n\", estimator.coef_)\n",
    "    print(\"模型中的偏置为:\\n\", estimator.intercept_)\n",
    "    \n",
    "\n",
    "    # 5.2 评价\n",
    "    # 均方误差\n",
    "    error = mean_squared_error(y_test, y_predict)\n",
    "    print(\"误差为:\\n\", error)\n",
    "\n",
    "    return None"
   ],
   "metadata": {
    "collapsed": false,
    "ExecuteTime": {
     "end_time": "2023-09-03T08:43:16.531798Z",
     "start_time": "2023-09-03T08:43:16.526633Z"
    }
   },
   "id": "e4d1d2b8da277f09"
  },
  {
   "cell_type": "code",
   "execution_count": 21,
   "outputs": [
    {
     "name": "stdout",
     "output_type": "stream",
     "text": [
      "预测值为:\n",
      " [28.14790667 31.30481159 20.5173895  31.4803076  19.01576648 18.26058425\n",
      " 20.57439825 18.45232382 18.46065155 32.93661269 20.3603692  27.24886071\n",
      " 14.81691426 19.20872297 37.01503458 18.32036009  7.71389628 17.56196944\n",
      " 30.18543811 23.60655873 18.14917545 33.84385342 28.48976083 16.9967041\n",
      " 34.76065063 26.22246312 34.83857168 26.62310118 18.64402278 13.21154037\n",
      " 30.37364532 14.70785748 37.18173708  8.88049446 15.06699441 16.14502168\n",
      "  7.19990762 19.17049423 39.56848262 28.23663    24.62411509 16.75182833\n",
      " 37.84465582  5.71770376 21.21547924 24.63882018 18.8561516  19.93416672\n",
      " 15.19839712 26.29892968  7.4274177  27.14300763 29.18745146 16.27895854\n",
      "  7.99799673 35.46394958 32.38905222 20.83161049 16.41464618 20.87141783\n",
      " 22.92150844 23.60828508 19.32245804 38.33751529 23.87463642 18.98494066\n",
      " 12.63480997  6.12915396 41.44675745 21.08894595 16.27561572 21.48546861\n",
      " 40.74502107 20.4839158  36.82098808 27.0452329  19.79437176 19.64484428\n",
      " 24.58763105 21.08454269 30.91968983 19.3326693  22.30088735 31.0904808\n",
      " 26.36418084 20.25648139 28.81879823 20.82632806 26.01779216 19.37871837\n",
      " 24.9599814  22.31091614 18.94468902 18.77414161 14.07143768 17.44450331\n",
      " 24.19727889 15.86077811 20.09007025 26.51946463 20.1336741  17.02456077\n",
      " 23.86647679 22.84428441 21.00754322 36.17169898 14.67959839 20.5656347\n",
      " 32.46704858 33.24183156 19.81162376 26.55899048 20.90676734 16.42301853\n",
      " 20.76605527 20.54658755 26.86304808 24.14176193 23.23824644 13.81640493\n",
      " 15.37727091  2.79513898 28.89744167 19.80407672 21.50002831 27.5410586\n",
      " 28.54270527]\n",
      "模型中的系数为:\n",
      " [-0.64817766  1.14673408 -0.05949444  0.74216553 -1.95515269  2.70902585\n",
      " -0.07737374 -3.29889391  2.50267196 -1.85679269 -1.75044624  0.87341624\n",
      " -3.91336869]\n",
      "模型中的偏置为:\n",
      " 22.621372031662272\n"
     ]
    },
    {
     "ename": "ValueError",
     "evalue": "Could not interpret value `data_x` for parameter `x`",
     "output_type": "error",
     "traceback": [
      "\u001B[0;31m---------------------------------------------------------------------------\u001B[0m",
      "\u001B[0;31mValueError\u001B[0m                                Traceback (most recent call last)",
      "Cell \u001B[0;32mIn[21], line 1\u001B[0m\n\u001B[0;32m----> 1\u001B[0m \u001B[43mlinear_model1\u001B[49m\u001B[43m(\u001B[49m\u001B[38;5;124;43m'\u001B[39;49m\u001B[38;5;124;43mLR\u001B[39;49m\u001B[38;5;124;43m'\u001B[39;49m\u001B[43m)\u001B[49m\n",
      "Cell \u001B[0;32mIn[20], line 26\u001B[0m, in \u001B[0;36mlinear_model1\u001B[0;34m(model)\u001B[0m\n\u001B[1;32m     23\u001B[0m \u001B[38;5;28mprint\u001B[39m(\u001B[38;5;124m\"\u001B[39m\u001B[38;5;124m模型中的系数为:\u001B[39m\u001B[38;5;130;01m\\n\u001B[39;00m\u001B[38;5;124m\"\u001B[39m, estimator\u001B[38;5;241m.\u001B[39mcoef_)\n\u001B[1;32m     24\u001B[0m \u001B[38;5;28mprint\u001B[39m(\u001B[38;5;124m\"\u001B[39m\u001B[38;5;124m模型中的偏置为:\u001B[39m\u001B[38;5;130;01m\\n\u001B[39;00m\u001B[38;5;124m\"\u001B[39m, estimator\u001B[38;5;241m.\u001B[39mintercept_)\n\u001B[0;32m---> 26\u001B[0m \u001B[43msns\u001B[49m\u001B[38;5;241;43m.\u001B[39;49m\u001B[43mjointplot\u001B[49m\u001B[43m(\u001B[49m\u001B[43mx\u001B[49m\u001B[38;5;241;43m=\u001B[39;49m\u001B[38;5;124;43m\"\u001B[39;49m\u001B[38;5;124;43mdata_x\u001B[39;49m\u001B[38;5;124;43m\"\u001B[39;49m\u001B[43m,\u001B[49m\u001B[43m \u001B[49m\u001B[43my\u001B[49m\u001B[38;5;241;43m=\u001B[39;49m\u001B[38;5;124;43m\"\u001B[39;49m\u001B[38;5;124;43mdata_y\u001B[39;49m\u001B[38;5;124;43m\"\u001B[39;49m\u001B[43m,\u001B[49m\u001B[43m \u001B[49m\u001B[43mdata\u001B[49m\u001B[38;5;241;43m=\u001B[39;49m\u001B[43mdataframe_obj\u001B[49m\u001B[43m)\u001B[49m\n\u001B[1;32m     27\u001B[0m plt\u001B[38;5;241m.\u001B[39mplot(np\u001B[38;5;241m.\u001B[39msort(x_test), y_predict[np\u001B[38;5;241m.\u001B[39margsort(x_test)], color \u001B[38;5;241m=\u001B[39m \u001B[38;5;124m'\u001B[39m\u001B[38;5;124mr\u001B[39m\u001B[38;5;124m'\u001B[39m)\n\u001B[1;32m     29\u001B[0m \u001B[38;5;66;03m# 5.2 评价\u001B[39;00m\n\u001B[1;32m     30\u001B[0m \u001B[38;5;66;03m# 均方误差\u001B[39;00m\n",
      "File \u001B[0;32m~/conda_env/ml_instance/lib/python3.10/site-packages/seaborn/axisgrid.py:2241\u001B[0m, in \u001B[0;36mjointplot\u001B[0;34m(data, x, y, hue, kind, height, ratio, space, dropna, xlim, ylim, color, palette, hue_order, hue_norm, marginal_ticks, joint_kws, marginal_kws, **kwargs)\u001B[0m\n\u001B[1;32m   2238\u001B[0m     dropna \u001B[38;5;241m=\u001B[39m \u001B[38;5;28;01mTrue\u001B[39;00m\n\u001B[1;32m   2240\u001B[0m \u001B[38;5;66;03m# Initialize the JointGrid object\u001B[39;00m\n\u001B[0;32m-> 2241\u001B[0m grid \u001B[38;5;241m=\u001B[39m \u001B[43mJointGrid\u001B[49m\u001B[43m(\u001B[49m\n\u001B[1;32m   2242\u001B[0m \u001B[43m    \u001B[49m\u001B[43mdata\u001B[49m\u001B[38;5;241;43m=\u001B[39;49m\u001B[43mdata\u001B[49m\u001B[43m,\u001B[49m\u001B[43m \u001B[49m\u001B[43mx\u001B[49m\u001B[38;5;241;43m=\u001B[39;49m\u001B[43mx\u001B[49m\u001B[43m,\u001B[49m\u001B[43m \u001B[49m\u001B[43my\u001B[49m\u001B[38;5;241;43m=\u001B[39;49m\u001B[43my\u001B[49m\u001B[43m,\u001B[49m\u001B[43m \u001B[49m\u001B[43mhue\u001B[49m\u001B[38;5;241;43m=\u001B[39;49m\u001B[43mhue\u001B[49m\u001B[43m,\u001B[49m\n\u001B[1;32m   2243\u001B[0m \u001B[43m    \u001B[49m\u001B[43mpalette\u001B[49m\u001B[38;5;241;43m=\u001B[39;49m\u001B[43mpalette\u001B[49m\u001B[43m,\u001B[49m\u001B[43m \u001B[49m\u001B[43mhue_order\u001B[49m\u001B[38;5;241;43m=\u001B[39;49m\u001B[43mhue_order\u001B[49m\u001B[43m,\u001B[49m\u001B[43m \u001B[49m\u001B[43mhue_norm\u001B[49m\u001B[38;5;241;43m=\u001B[39;49m\u001B[43mhue_norm\u001B[49m\u001B[43m,\u001B[49m\n\u001B[1;32m   2244\u001B[0m \u001B[43m    \u001B[49m\u001B[43mdropna\u001B[49m\u001B[38;5;241;43m=\u001B[39;49m\u001B[43mdropna\u001B[49m\u001B[43m,\u001B[49m\u001B[43m \u001B[49m\u001B[43mheight\u001B[49m\u001B[38;5;241;43m=\u001B[39;49m\u001B[43mheight\u001B[49m\u001B[43m,\u001B[49m\u001B[43m \u001B[49m\u001B[43mratio\u001B[49m\u001B[38;5;241;43m=\u001B[39;49m\u001B[43mratio\u001B[49m\u001B[43m,\u001B[49m\u001B[43m \u001B[49m\u001B[43mspace\u001B[49m\u001B[38;5;241;43m=\u001B[39;49m\u001B[43mspace\u001B[49m\u001B[43m,\u001B[49m\n\u001B[1;32m   2245\u001B[0m \u001B[43m    \u001B[49m\u001B[43mxlim\u001B[49m\u001B[38;5;241;43m=\u001B[39;49m\u001B[43mxlim\u001B[49m\u001B[43m,\u001B[49m\u001B[43m \u001B[49m\u001B[43mylim\u001B[49m\u001B[38;5;241;43m=\u001B[39;49m\u001B[43mylim\u001B[49m\u001B[43m,\u001B[49m\u001B[43m \u001B[49m\u001B[43mmarginal_ticks\u001B[49m\u001B[38;5;241;43m=\u001B[39;49m\u001B[43mmarginal_ticks\u001B[49m\u001B[43m,\u001B[49m\n\u001B[1;32m   2246\u001B[0m \u001B[43m\u001B[49m\u001B[43m)\u001B[49m\n\u001B[1;32m   2248\u001B[0m \u001B[38;5;28;01mif\u001B[39;00m grid\u001B[38;5;241m.\u001B[39mhue \u001B[38;5;129;01mis\u001B[39;00m \u001B[38;5;129;01mnot\u001B[39;00m \u001B[38;5;28;01mNone\u001B[39;00m:\n\u001B[1;32m   2249\u001B[0m     marginal_kws\u001B[38;5;241m.\u001B[39msetdefault(\u001B[38;5;124m\"\u001B[39m\u001B[38;5;124mlegend\u001B[39m\u001B[38;5;124m\"\u001B[39m, \u001B[38;5;28;01mFalse\u001B[39;00m)\n",
      "File \u001B[0;32m~/conda_env/ml_instance/lib/python3.10/site-packages/seaborn/axisgrid.py:1722\u001B[0m, in \u001B[0;36mJointGrid.__init__\u001B[0;34m(self, data, x, y, hue, height, ratio, space, palette, hue_order, hue_norm, dropna, xlim, ylim, marginal_ticks)\u001B[0m\n\u001B[1;32m   1719\u001B[0m     ax_marg_y\u001B[38;5;241m.\u001B[39mxaxis\u001B[38;5;241m.\u001B[39mgrid(\u001B[38;5;28;01mFalse\u001B[39;00m)\n\u001B[1;32m   1721\u001B[0m \u001B[38;5;66;03m# Process the input variables\u001B[39;00m\n\u001B[0;32m-> 1722\u001B[0m p \u001B[38;5;241m=\u001B[39m \u001B[43mVectorPlotter\u001B[49m\u001B[43m(\u001B[49m\u001B[43mdata\u001B[49m\u001B[38;5;241;43m=\u001B[39;49m\u001B[43mdata\u001B[49m\u001B[43m,\u001B[49m\u001B[43m \u001B[49m\u001B[43mvariables\u001B[49m\u001B[38;5;241;43m=\u001B[39;49m\u001B[38;5;28;43mdict\u001B[39;49m\u001B[43m(\u001B[49m\u001B[43mx\u001B[49m\u001B[38;5;241;43m=\u001B[39;49m\u001B[43mx\u001B[49m\u001B[43m,\u001B[49m\u001B[43m \u001B[49m\u001B[43my\u001B[49m\u001B[38;5;241;43m=\u001B[39;49m\u001B[43my\u001B[49m\u001B[43m,\u001B[49m\u001B[43m \u001B[49m\u001B[43mhue\u001B[49m\u001B[38;5;241;43m=\u001B[39;49m\u001B[43mhue\u001B[49m\u001B[43m)\u001B[49m\u001B[43m)\u001B[49m\n\u001B[1;32m   1723\u001B[0m plot_data \u001B[38;5;241m=\u001B[39m p\u001B[38;5;241m.\u001B[39mplot_data\u001B[38;5;241m.\u001B[39mloc[:, p\u001B[38;5;241m.\u001B[39mplot_data\u001B[38;5;241m.\u001B[39mnotna()\u001B[38;5;241m.\u001B[39many()]\n\u001B[1;32m   1725\u001B[0m \u001B[38;5;66;03m# Possibly drop NA\u001B[39;00m\n",
      "File \u001B[0;32m~/conda_env/ml_instance/lib/python3.10/site-packages/seaborn/_oldcore.py:640\u001B[0m, in \u001B[0;36mVectorPlotter.__init__\u001B[0;34m(self, data, variables)\u001B[0m\n\u001B[1;32m    635\u001B[0m \u001B[38;5;66;03m# var_ordered is relevant only for categorical axis variables, and may\u001B[39;00m\n\u001B[1;32m    636\u001B[0m \u001B[38;5;66;03m# be better handled by an internal axis information object that tracks\u001B[39;00m\n\u001B[1;32m    637\u001B[0m \u001B[38;5;66;03m# such information and is set up by the scale_* methods. The analogous\u001B[39;00m\n\u001B[1;32m    638\u001B[0m \u001B[38;5;66;03m# information for numeric axes would be information about log scales.\u001B[39;00m\n\u001B[1;32m    639\u001B[0m \u001B[38;5;28mself\u001B[39m\u001B[38;5;241m.\u001B[39m_var_ordered \u001B[38;5;241m=\u001B[39m {\u001B[38;5;124m\"\u001B[39m\u001B[38;5;124mx\u001B[39m\u001B[38;5;124m\"\u001B[39m: \u001B[38;5;28;01mFalse\u001B[39;00m, \u001B[38;5;124m\"\u001B[39m\u001B[38;5;124my\u001B[39m\u001B[38;5;124m\"\u001B[39m: \u001B[38;5;28;01mFalse\u001B[39;00m}  \u001B[38;5;66;03m# alt., used DefaultDict\u001B[39;00m\n\u001B[0;32m--> 640\u001B[0m \u001B[38;5;28;43mself\u001B[39;49m\u001B[38;5;241;43m.\u001B[39;49m\u001B[43massign_variables\u001B[49m\u001B[43m(\u001B[49m\u001B[43mdata\u001B[49m\u001B[43m,\u001B[49m\u001B[43m \u001B[49m\u001B[43mvariables\u001B[49m\u001B[43m)\u001B[49m\n\u001B[1;32m    642\u001B[0m \u001B[38;5;28;01mfor\u001B[39;00m var, \u001B[38;5;28mcls\u001B[39m \u001B[38;5;129;01min\u001B[39;00m \u001B[38;5;28mself\u001B[39m\u001B[38;5;241m.\u001B[39m_semantic_mappings\u001B[38;5;241m.\u001B[39mitems():\n\u001B[1;32m    643\u001B[0m \n\u001B[1;32m    644\u001B[0m     \u001B[38;5;66;03m# Create the mapping function\u001B[39;00m\n\u001B[1;32m    645\u001B[0m     map_func \u001B[38;5;241m=\u001B[39m partial(\u001B[38;5;28mcls\u001B[39m\u001B[38;5;241m.\u001B[39mmap, plotter\u001B[38;5;241m=\u001B[39m\u001B[38;5;28mself\u001B[39m)\n",
      "File \u001B[0;32m~/conda_env/ml_instance/lib/python3.10/site-packages/seaborn/_oldcore.py:701\u001B[0m, in \u001B[0;36mVectorPlotter.assign_variables\u001B[0;34m(self, data, variables)\u001B[0m\n\u001B[1;32m    699\u001B[0m \u001B[38;5;28;01melse\u001B[39;00m:\n\u001B[1;32m    700\u001B[0m     \u001B[38;5;28mself\u001B[39m\u001B[38;5;241m.\u001B[39minput_format \u001B[38;5;241m=\u001B[39m \u001B[38;5;124m\"\u001B[39m\u001B[38;5;124mlong\u001B[39m\u001B[38;5;124m\"\u001B[39m\n\u001B[0;32m--> 701\u001B[0m     plot_data, variables \u001B[38;5;241m=\u001B[39m \u001B[38;5;28;43mself\u001B[39;49m\u001B[38;5;241;43m.\u001B[39;49m\u001B[43m_assign_variables_longform\u001B[49m\u001B[43m(\u001B[49m\n\u001B[1;32m    702\u001B[0m \u001B[43m        \u001B[49m\u001B[43mdata\u001B[49m\u001B[43m,\u001B[49m\u001B[43m \u001B[49m\u001B[38;5;241;43m*\u001B[39;49m\u001B[38;5;241;43m*\u001B[39;49m\u001B[43mvariables\u001B[49m\u001B[43m,\u001B[49m\n\u001B[1;32m    703\u001B[0m \u001B[43m    \u001B[49m\u001B[43m)\u001B[49m\n\u001B[1;32m    705\u001B[0m \u001B[38;5;28mself\u001B[39m\u001B[38;5;241m.\u001B[39mplot_data \u001B[38;5;241m=\u001B[39m plot_data\n\u001B[1;32m    706\u001B[0m \u001B[38;5;28mself\u001B[39m\u001B[38;5;241m.\u001B[39mvariables \u001B[38;5;241m=\u001B[39m variables\n",
      "File \u001B[0;32m~/conda_env/ml_instance/lib/python3.10/site-packages/seaborn/_oldcore.py:938\u001B[0m, in \u001B[0;36mVectorPlotter._assign_variables_longform\u001B[0;34m(self, data, **kwargs)\u001B[0m\n\u001B[1;32m    933\u001B[0m \u001B[38;5;28;01melif\u001B[39;00m \u001B[38;5;28misinstance\u001B[39m(val, (\u001B[38;5;28mstr\u001B[39m, \u001B[38;5;28mbytes\u001B[39m)):\n\u001B[1;32m    934\u001B[0m \n\u001B[1;32m    935\u001B[0m     \u001B[38;5;66;03m# This looks like a column name but we don't know what it means!\u001B[39;00m\n\u001B[1;32m    937\u001B[0m     err \u001B[38;5;241m=\u001B[39m \u001B[38;5;124mf\u001B[39m\u001B[38;5;124m\"\u001B[39m\u001B[38;5;124mCould not interpret value `\u001B[39m\u001B[38;5;132;01m{\u001B[39;00mval\u001B[38;5;132;01m}\u001B[39;00m\u001B[38;5;124m` for parameter `\u001B[39m\u001B[38;5;132;01m{\u001B[39;00mkey\u001B[38;5;132;01m}\u001B[39;00m\u001B[38;5;124m`\u001B[39m\u001B[38;5;124m\"\u001B[39m\n\u001B[0;32m--> 938\u001B[0m     \u001B[38;5;28;01mraise\u001B[39;00m \u001B[38;5;167;01mValueError\u001B[39;00m(err)\n\u001B[1;32m    940\u001B[0m \u001B[38;5;28;01melse\u001B[39;00m:\n\u001B[1;32m    941\u001B[0m \n\u001B[1;32m    942\u001B[0m     \u001B[38;5;66;03m# Otherwise, assume the value is itself data\u001B[39;00m\n\u001B[1;32m    943\u001B[0m \n\u001B[1;32m    944\u001B[0m     \u001B[38;5;66;03m# Raise when data object is present and a vector can't matched\u001B[39;00m\n\u001B[1;32m    945\u001B[0m     \u001B[38;5;28;01mif\u001B[39;00m \u001B[38;5;28misinstance\u001B[39m(data, pd\u001B[38;5;241m.\u001B[39mDataFrame) \u001B[38;5;129;01mand\u001B[39;00m \u001B[38;5;129;01mnot\u001B[39;00m \u001B[38;5;28misinstance\u001B[39m(val, pd\u001B[38;5;241m.\u001B[39mSeries):\n",
      "\u001B[0;31mValueError\u001B[0m: Could not interpret value `data_x` for parameter `x`"
     ]
    },
    {
     "data": {
      "text/plain": "<Figure size 600x600 with 3 Axes>",
      "image/png": "[encoded data removed]"
     },
     "metadata": {},
     "output_type": "display_data"
    }
   ],
   "source": [
    "linear_model1('LR')"
   ],
   "metadata": {
    "collapsed": false,
    "ExecuteTime": {
     "end_time": "2023-09-03T08:42:19.642119Z",
     "start_time": "2023-09-03T08:42:19.448239Z"
    }
   },
   "id": "9acbf30a6bc1b4ac"
  },
  {
   "cell_type": "code",
   "execution_count": 11,
   "outputs": [
    {
     "name": "stdout",
     "output_type": "stream",
     "text": [
      "预测值为:\n",
      " [28.15217072 31.41621861 20.81947026 31.34062615 19.18506599 18.14689963\n",
      " 20.81986908 18.32843845 18.5385364  32.80655212 20.71769553 26.95263523\n",
      " 14.80182675 19.26374955 37.00564    18.24286752  7.89361024 17.66310787\n",
      " 30.27761064 23.63568601 18.01534538 33.8083216  28.04584845 16.79555513\n",
      " 34.6754061  26.23691501 34.58436592 26.6430156  18.50247899 13.9546259\n",
      " 30.34580503 13.47400549 37.52019441  9.26513323 15.19791224 15.80277354\n",
      "  7.19827829 18.91446453 39.36471537 28.46741841 24.64099886 16.7041432\n",
      " 37.93983415  5.47277639 20.95530802 24.46310502 18.98830786 19.99833379\n",
      " 14.88466252 26.23291421  8.37257446 26.8970617  29.07884772 16.19369976\n",
      "  8.03103696 35.40018537 31.79531601 21.84713327 16.41880944 20.72162693\n",
      " 23.06283831 23.50583124 19.50760225 38.06676905 24.89564383 18.78897226\n",
      " 12.68038527  5.92492286 41.50641311 21.06952426 16.06602377 21.49475007\n",
      " 40.82308383 20.83349195 36.80597457 27.01384715 20.56822088 19.98903386\n",
      " 24.60844762 22.45733272 31.24549536 19.23792994 22.15321461 31.11184816\n",
      " 26.76850659 20.13010709 28.8500131  20.83782025 26.37208778 18.1460192\n",
      " 24.8369784  22.08766745 18.84312508 19.29609659 14.13974048 17.29259161\n",
      " 24.0315118  15.82105703 19.81476887 26.52677444 19.95791942 16.95945886\n",
      " 23.69731754 22.7427187  19.81570004 35.82849278 14.80928386 21.52520225\n",
      " 32.39087615 32.92035597 19.77694347 25.80491157 21.16491589 16.77149836\n",
      " 20.63021413 20.75271907 26.79591121 24.39720698 23.17526497 13.5449034\n",
      " 15.51416224  2.57212512 28.97616038 19.67695854 21.54557907 27.60463682\n",
      " 28.31518708]\n",
      "模型中的系数为:\n",
      " [-0.54737791  0.98987934 -0.40054913  0.7476116  -1.78903009  2.78299794\n",
      " -0.14254053 -3.17861805  1.76544227 -1.05433218 -1.73068038  0.85774536\n",
      " -3.88957371]\n",
      "模型中的偏置为:\n",
      " [22.61997337]\n",
      "误差为:\n",
      " 20.26531909748132\n"
     ]
    }
   ],
   "source": [
    "linear_model1('SGD')"
   ],
   "metadata": {
    "collapsed": false,
    "ExecuteTime": {
     "end_time": "2023-09-03T07:36:17.583166Z",
     "start_time": "2023-09-03T07:36:17.571748Z"
    }
   },
   "id": "e37c2ce4952be3a8"
  },
  {
   "cell_type": "code",
   "execution_count": 27,
   "outputs": [
    {
     "name": "stdout",
     "output_type": "stream",
     "text": [
      "预测值为:\n",
      " [28.2471262  31.40097886 20.8194229  31.40365477 19.31019999 18.26254636\n",
      " 20.81277975 18.41321643 18.60178372 32.86507563 20.6870883  26.92488984\n",
      " 14.83561216 19.36204395 37.14718402 18.09904956  8.0942745  17.73799811\n",
      " 30.38681591 23.60315917 18.10781437 33.84188118 28.14524051 16.71966735\n",
      " 34.67305295 26.13210334 34.40313406 26.62653357 18.50999316 14.14384171\n",
      " 30.34414823 13.33478518 37.41605126  9.17603586 15.25345879 15.67426617\n",
      "  7.16466291 18.90522926 39.44577755 28.61603162 24.68933096 16.77753215\n",
      " 38.28825976  5.36978551 20.90828698 24.39009316 19.32007219 20.12145569\n",
      " 14.86280667 26.30797631  8.4178076  26.80383882 29.18283431 16.18420035\n",
      "  7.93481595 35.42242943 31.51140306 21.95420929 16.4417275  20.7884633\n",
      " 23.00167051 23.44374921 19.62414813 38.0362995  24.97731222 18.81701092\n",
      " 12.67897031  5.83249584 41.78883452 21.01303787 15.77131195 21.671297\n",
      " 40.95449405 20.84068768 36.86522822 26.99769839 20.75792839 19.84591919\n",
      " 24.63439646 22.73980637 31.28676061 19.18333769 22.21318722 30.96973941\n",
      " 26.81449799 20.19391524 28.78502401 21.01046328 26.41921326 18.04969695\n",
      " 24.58044731 22.05651559 18.94527054 19.44589368 14.07003476 17.29056899\n",
      " 23.93233655 15.7875281  19.78226616 26.61957788 19.96168712 17.07719298\n",
      " 23.71154318 22.72176857 19.73576266 35.75938153 14.89141323 21.57284342\n",
      " 32.31080014 32.99690686 19.80566982 25.62472506 21.56234727 16.76399795\n",
      " 20.66867311 20.69289178 26.75494212 24.39034695 23.17115873 13.51772483\n",
      " 15.40706112  2.39173373 28.95490574 19.79618409 21.4833258  27.60502816\n",
      " 28.29806035]\n",
      "模型中的系数为:\n",
      " [-0.52953323  0.91967632 -0.41145808  0.77636172 -1.64467955  2.82931596\n",
      " -0.13623962 -3.05616087  1.66097535 -0.98400891 -1.71577605  0.89661057\n",
      " -3.91082336]\n",
      "模型中的偏置为:\n",
      " [22.63529596]\n",
      "误差为:\n",
      " 20.277856507340974\n"
     ]
    }
   ],
   "source": [
    "linear_model1('RIDGE')"
   ],
   "metadata": {
    "collapsed": false,
    "ExecuteTime": {
     "end_time": "2023-09-03T14:18:41.034106Z",
     "start_time": "2023-09-03T14:18:41.023691Z"
    }
   },
   "id": "63c784bc15041b97"
  }
 ],
 "metadata": {
  "kernelspec": {
   "display_name": "Python 3",
   "language": "python",
   "name": "python3"
  },
  "language_info": {
   "codemirror_mode": {
    "name": "ipython",
    "version": 2
   },
   "file_extension": ".py",
   "mimetype": "text/x-python",
   "name": "python",
   "nbconvert_exporter": "python",
   "pygments_lexer": "ipython2",
   "version": "2.7.6"
  }
 },
 "nbformat": 4,
 "nbformat_minor": 5
}
